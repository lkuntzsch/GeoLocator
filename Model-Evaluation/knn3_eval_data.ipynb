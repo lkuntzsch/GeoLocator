{
  "cells": [
    {
      "cell_type": "code",
      "execution_count": null,
      "metadata": {
        "id": "ByGj60WDqi8z"
      },
      "outputs": [],
      "source": [
        "import pandas as pd\n",
        "import numpy as np\n",
        "from sklearn.neighbors import KNeighborsClassifier\n",
        "from sklearn.preprocessing import StandardScaler\n",
        "#from sklearn.model_selection import GridSearchCV !! muss auskommentiert sein für gpu grid search\n",
        "from sklearn.metrics import classification_report, confusion_matrix\n",
        "# für GPU ausführung:\n",
        "import cudf\n",
        "import cupy as cp\n",
        "import gc\n",
        "from cuml.neighbors import KNeighborsClassifier as cuKNN\n",
        "from cuml.model_selection import GridSearchCV\n",
        "import matplotlib.pyplot as plt\n",
        "from cuml.preprocessing import StandardScaler as cuStandardScaler\n",
        "from sklearn.preprocessing import LabelEncoder\n",
        "import itertools\n",
        "from cuml import metrics"
      ]
    },
    {
      "cell_type": "code",
      "execution_count": null,
      "metadata": {
        "id": "pm7AZv6IqsxK"
      },
      "outputs": [],
      "source": [
        "meta_train = pd.read_csv(\"/content/drive/MyDrive/bv-ss25-data/y_train.csv\")\n",
        "meta_val = pd.read_csv(\"/content/drive/MyDrive/bv-ss25-data/y_val.csv\")\n",
        "meta_test = pd.read_csv(\"/content/drive/MyDrive/bv-ss25-data/y_test.csv\")\n",
        "\n",
        "embeddings_train =  np.load(\"/content/drive/MyDrive/bv-ss25-data/emb_train.npy\")  # shape (N, d)\n",
        "embeddings_val =  np.load(\"/content/drive/MyDrive/bv-ss25-data/emb_val.npy\")  # shape (N, d)\n",
        "embeddings_test =  np.load(\"/content/drive/MyDrive/bv-ss25-data/emb_test.npy\")  # shape (N, d)"
      ]
    },
    {
      "cell_type": "code",
      "execution_count": null,
      "metadata": {
        "id": "F5DM24TnqucF"
      },
      "outputs": [],
      "source": [
        "for i in range(embeddings_train.shape[1]):\n",
        "  meta_train[f\"feat_{i}\"] = embeddings_train[:, i]\n",
        "\n",
        "\n",
        "for i in range(embeddings_val.shape[1]):\n",
        "  meta_val[f\"feat_{i}\"] = embeddings_val[:, i]\n",
        "\n",
        "\n",
        "for i in range(embeddings_test.shape[1]):\n",
        "  meta_test[f\"feat_{i}\"] = embeddings_test[:, i]"
      ]
    },
    {
      "cell_type": "code",
      "execution_count": null,
      "metadata": {
        "id": "gUMWXbAUqwPW"
      },
      "outputs": [],
      "source": [
        "# Embeddings direkt verwenden (und gleich in float32 casten, um den Speicher zu halbieren)\n",
        "\n",
        "# Trainingsdaten\n",
        "X_train = embeddings_train.astype(np.float32)\n",
        "y_train = meta_train[\"country\"].values\n",
        "\n",
        "# Validierungsdaten\n",
        "X_val = embeddings_val.astype(np.float32)\n",
        "y_val = meta_val[\"country\"].values\n",
        "\n",
        "# Testdaten\n",
        "X_test = embeddings_test.astype(np.float32)\n",
        "y_test = meta_test[\"country\"].values\n",
        "\n",
        "\n",
        "# Freigeben ungenutzer objekte -> mehr ram\n",
        "del meta_train, meta_val, meta_test\n",
        "del embeddings_train, embeddings_val, embeddings_test\n"
      ]
    },
    {
      "cell_type": "code",
      "execution_count": null,
      "metadata": {
        "id": "_eXfN121qyTA"
      },
      "outputs": [],
      "source": [
        "\n",
        "# 1. Labels encodieren\n",
        "le = LabelEncoder()\n",
        "y_train_enc = le.fit_transform(y_train)   # NumPy-Array int64\n",
        "y_val_enc   = le.transform(y_val)\n",
        "y_test_enc  = le.transform(y_test)\n",
        "\n",
        "# 2. In int32 casten (passt besser zu GPU)\n",
        "y_train_enc = y_train_enc.astype(np.int32)\n",
        "y_val_enc   = y_val_enc.astype(np.int32)\n",
        "y_test_enc  = y_test_enc.astype(np.int32)"
      ]
    },
    {
      "cell_type": "code",
      "execution_count": null,
      "metadata": {
        "id": "BP9suK-Fqz1S"
      },
      "outputs": [],
      "source": [
        "# CPU\n",
        "scaler = StandardScaler().fit(X_train)\n",
        "X_train_s = scaler.fit_transform(X_train)\n",
        "X_val_s = scaler.transform(X_val)\n",
        "X_test_s = scaler.transform(X_test)\n",
        "\n",
        "# Auf GPU geht nicht wegen RAM, deshalb hier mit CPU und danach auf GPU\n",
        "# Freigeben ungenutzer objekte -> mehr ram\n",
        "del X_train, X_val, X_test\n",
        "\n",
        "# aus float32-NumPy → float32-CuPy\n",
        "X_train_gpu = cp.asarray(X_train_s)\n",
        "y_train_gpu = cp.asarray(y_train_enc)\n",
        "\n",
        "X_val_gpu   = cp.asarray(X_val_s)\n",
        "y_val_gpu   = cp.asarray(y_val_enc)\n",
        "\n",
        "X_test_gpu  = cp.asarray(X_test_s)\n",
        "y_test_gpu  = cp.asarray(y_test_enc)"
      ]
    },
    {
      "cell_type": "code",
      "execution_count": null,
      "metadata": {
        "id": "HMiHA7BUq10v"
      },
      "outputs": [],
      "source": [
        "# 1. Rapids/cuML in Colab installieren\n",
        "# -------------------------------------\n",
        "# (Muss nur einmal pro Session laufen)\n",
        "!git clone https://github.com/rapidsai/rapidsai-csp-utils.git\n",
        "!bash rapidsai-csp-utils/colab/install_rapids.sh stable"
      ]
    },
    {
      "cell_type": "code",
      "execution_count": null,
      "metadata": {
        "id": "UYBfo_qgsqDJ"
      },
      "outputs": [],
      "source": [
        "# zusammenschmeißen von Train+Val\n",
        "# Labels und Features zusammenstacken\n",
        "X_full_train = cp.concatenate([X_train_gpu, X_val_gpu], axis=0)\n",
        "y_full_train = cp.concatenate([y_train_gpu,      y_val_gpu],      axis=0)\n",
        "\n",
        "# Speicher freigeben\n",
        "del X_train_gpu, y_train_gpu, X_val_gpu, y_val_gpu\n",
        "cp._default_memory_pool.free_all_blocks()\n"
      ]
    },
    {
      "cell_type": "code",
      "execution_count": null,
      "metadata": {
        "id": "fBXGt-arq3JS"
      },
      "outputs": [],
      "source": [
        "# baseline model evaluation auf testset\n",
        "knn_base = cuKNN(\n",
        "    n_neighbors=5,\n",
        "    weights=\"uniform\",           # gleiches Gewicht für alle Nachbarn\n",
        "    metric=\"euclidean\"           # euklidischer Abstand\n",
        ")\n",
        "\n",
        "knn_base.fit(X_full_train, y_full_train)\n",
        "y_pred_base = knn_base.predict(X_test_gpu)\n",
        "\n",
        "val_pred = val_pred_base.get().astype(int)\n",
        "\n",
        "# Speicher frei machen\n",
        "del val_pred_base\n",
        "\n",
        "\n",
        "# Konvertieren von Zahlen zurück zu Labels (encoding)\n",
        "val_pred = le.inverse_transform(val_pred)\n",
        "\n",
        "\n",
        "print(\"=== Validation Classification Report ===\")\n",
        "print(classification_report(y_val, val_pred, zero_division=0))\n",
        "\n",
        "print(\"=== Validation Confusion Matrix ===\")\n",
        "print(confusion_matrix(y_val, val_pred))\n",
        "\n",
        "del val_pred"
      ]
    },
    {
      "cell_type": "code",
      "execution_count": null,
      "metadata": {
        "id": "qwi-ldtSvKzq"
      },
      "outputs": [],
      "source": [
        "# tuned model evaluation\n",
        "final_knn = cuKNN(\n",
        "    n_neighbors=9,\n",
        "    weights=\"uniform\",           # gleiches Gewicht für alle Nachbarn\n",
        "    metric=\"euclidean\"           # euklidischer Abstand\n",
        ")\n",
        "\n",
        "final_knn.fit(X_full_train, y_full_train)\n",
        "y_pred_final = final_knn.predict(X_test_gpu)\n",
        "\n",
        "val_pred = val_pred_final.get().astype(int)\n",
        "\n",
        "# Speicher frei machen\n",
        "del val_pred_final\n",
        "\n",
        "\n",
        "# Konvertieren von Zahlen zurück zu Labels (encoding)\n",
        "val_pred = le.inverse_transform(val_pred)\n",
        "\n",
        "\n",
        "print(\"=== Validation Classification Report ===\")\n",
        "print(classification_report(y_val, val_pred, zero_division=0))\n",
        "\n",
        "print(\"=== Validation Confusion Matrix ===\")\n",
        "print(confusion_matrix(y_val, val_pred))"
      ]
    },
    {
      "cell_type": "code",
      "execution_count": null,
      "metadata": {
        "id": "d9AOooNlrfzt"
      },
      "outputs": [],
      "source": [
        "# zusatzinfos für eval\n",
        "\n",
        "# baseline\n",
        "print(\"=== Baseline Report ===\")\n",
        "\n",
        "# GPU-Wahrscheinlichkeiten\n",
        "proba_gpu_base = knn_base.predict_proba(X_test_gpu)\n",
        "\n",
        "# zu NumPy zurückholen\n",
        "proba = proba_gpu.get()        # shape (n_samples, n_classes), dtype float32\n",
        "\n",
        "y_test_base = le.transform(y_test)     # NumPy int-Array\n",
        "\n"
      ]
    },
    {
      "cell_type": "code",
      "execution_count": null,
      "metadata": {
        "id": "jQcNsaPVt7Vq"
      },
      "outputs": [],
      "source": [
        "from sklearn.metrics import top_k_accuracy_score\n",
        "from sklearn.metrics import log_loss\n",
        "\n",
        "# Top-5 Accuracy: Label muss in den 5 größten Wahrscheinlichkeiten sein\n",
        "top5 = top_k_accuracy_score(y_test_base, proba, k=5)\n",
        "print(f\"Top-5 Accuracy on Test-Set: {top5:.4f}\")\n",
        "\n",
        "# log_loss erwartet probas und integer-Labels\n",
        "ll = log_loss(y_test_base, proba)\n",
        "print(f\"Log-Loss on Test-Set: {ll:.4f}\")"
      ]
    },
    {
      "cell_type": "code",
      "execution_count": null,
      "metadata": {
        "id": "GKikdH6js9dg"
      },
      "outputs": [],
      "source": [
        "\n",
        "# B Modell mit den besten Parametern darauf trainieren\n",
        "\n",
        "print(\"=== Tuned Model Report ===\")\n",
        "\n",
        "# 2.1 GPU-Probas berechnen\n",
        "proba_gpu = final_knn.predict_proba(X_test_gpu)\n",
        "\n",
        "# 2.2 In NumPy zurückholen\n",
        "proba = proba_gpu.get()               # shape (n_samples, n_classes)\n",
        "\n",
        "# 2.3 True-Labels in Encoded-Form (int) bereithalten\n",
        "y_test_enc = le.transform(y_test)     # NumPy int-Array\n",
        "\n"
      ]
    },
    {
      "cell_type": "code",
      "execution_count": null,
      "metadata": {
        "id": "JxFrS8BFuK_b"
      },
      "outputs": [],
      "source": [
        "# Top-5 Accuracy: Label muss in den 5 größten Wahrscheinlichkeiten sein\n",
        "top5 = top_k_accuracy_score(y_test_enc, proba, k=5)\n",
        "print(f\"Top-5 Accuracy on Test-Set: {top5:.4f}\")\n",
        "\n",
        "# log_loss erwartet probas und integer-Labels\n",
        "ll = log_loss(y_test_enc, proba)\n",
        "print(f\"Log-Loss on Test-Set: {ll:.4f}\")"
      ]
    }
  ],
  "metadata": {
    "colab": {
      "provenance": []
    },
    "kernelspec": {
      "display_name": "Python 3",
      "name": "python3"
    },
    "language_info": {
      "name": "python"
    }
  },
  "nbformat": 4,
  "nbformat_minor": 0
}
